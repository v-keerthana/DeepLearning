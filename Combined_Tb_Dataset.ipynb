{
  "nbformat": 4,
  "nbformat_minor": 0,
  "metadata": {
    "colab": {
      "name": "Combined_Tb_Dataset.ipynb",
      "provenance": [],
      "authorship_tag": "ABX9TyOmqYEPQfG6A+6t7pbQK4aH",
      "include_colab_link": true
    },
    "kernelspec": {
      "name": "python3",
      "display_name": "Python 3"
    },
    "language_info": {
      "name": "python"
    },
    "accelerator": "GPU"
  },
  "cells": [
    {
      "cell_type": "markdown",
      "metadata": {
        "id": "view-in-github",
        "colab_type": "text"
      },
      "source": [
        "<a href=\"https://colab.research.google.com/github/v-keerthana/DeepLearning/blob/main/Combined_Tb_Dataset.ipynb\" target=\"_parent\"><img src=\"https://colab.research.google.com/assets/colab-badge.svg\" alt=\"Open In Colab\"/></a>"
      ]
    },
    {
      "cell_type": "code",
      "execution_count": 3,
      "metadata": {
        "colab": {
          "resources": {
            "http://localhost:8080/nbextensions/google.colab/files.js": {
              "data": "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",
              "ok": true,
              "headers": [
                [
                  "content-type",
                  "application/javascript"
                ]
              ],
              "status": 200,
              "status_text": ""
            }
          },
          "base_uri": "https://localhost:8080/",
          "height": 73
        },
        "id": "x9TxKFpxHWtv",
        "outputId": "316c3b4b-92b8-4faf-9bba-cd6c846feeb2"
      },
      "outputs": [
        {
          "output_type": "display_data",
          "data": {
            "text/html": [
              "\n",
              "     <input type=\"file\" id=\"files-1fd92dc3-8da7-493a-b612-6256aa879156\" name=\"files[]\" multiple disabled\n",
              "        style=\"border:none\" />\n",
              "     <output id=\"result-1fd92dc3-8da7-493a-b612-6256aa879156\">\n",
              "      Upload widget is only available when the cell has been executed in the\n",
              "      current browser session. Please rerun this cell to enable.\n",
              "      </output>\n",
              "      <script src=\"/nbextensions/google.colab/files.js\"></script> "
            ],
            "text/plain": [
              "<IPython.core.display.HTML object>"
            ]
          },
          "metadata": {}
        },
        {
          "output_type": "stream",
          "name": "stdout",
          "text": [
            "Saving kaggle.json to kaggle.json\n"
          ]
        }
      ],
      "source": [
        "!pip install -q kaggle\n",
        "from google.colab import files\n",
        "files.upload()\n",
        "! mkdir ~/.kaggle\n",
        "! cp kaggle.json ~/.kaggle/\n",
        "! chmod 600 ~/.kaggle/kaggle.json\n",
        "# ! kaggle datasets list"
      ]
    },
    {
      "cell_type": "code",
      "source": [
        "!kaggle datasets download -d tawsifurrahman/tuberculosis-tb-chest-xray-dataset"
      ],
      "metadata": {
        "colab": {
          "base_uri": "https://localhost:8080/"
        },
        "id": "59GWUm8CIGKp",
        "outputId": "4030fca8-6c9e-459e-ee04-1275d35d71fe"
      },
      "execution_count": 4,
      "outputs": [
        {
          "output_type": "stream",
          "name": "stdout",
          "text": [
            "Downloading tuberculosis-tb-chest-xray-dataset.zip to /content\n",
            " 99% 657M/663M [00:16<00:00, 57.7MB/s]\n",
            "100% 663M/663M [00:16<00:00, 42.3MB/s]\n"
          ]
        }
      ]
    },
    {
      "cell_type": "code",
      "source": [
        "!kaggle datasets download -d raddar/tuberculosis-chest-xrays-shenzhen"
      ],
      "metadata": {
        "colab": {
          "base_uri": "https://localhost:8080/"
        },
        "id": "r-9TLFXzIKU1",
        "outputId": "d1159a4d-f6fc-4959-8541-7e124343cc25"
      },
      "execution_count": 5,
      "outputs": [
        {
          "output_type": "stream",
          "name": "stdout",
          "text": [
            "Downloading tuberculosis-chest-xrays-shenzhen.zip to /content\n",
            "100% 3.51G/3.51G [01:15<00:00, 35.0MB/s]\n",
            "100% 3.51G/3.51G [01:15<00:00, 49.9MB/s]\n"
          ]
        }
      ]
    },
    {
      "cell_type": "code",
      "source": [
        "!kaggle datasets download -d raddar/tuberculosis-chest-xrays-montgomery"
      ],
      "metadata": {
        "colab": {
          "base_uri": "https://localhost:8080/"
        },
        "id": "wE43cLHJINSx",
        "outputId": "f3d2adf7-505a-4190-ad52-c4fa6e702c88"
      },
      "execution_count": 6,
      "outputs": [
        {
          "output_type": "stream",
          "name": "stdout",
          "text": [
            "Downloading tuberculosis-chest-xrays-montgomery.zip to /content\n",
            " 97% 570M/585M [00:14<00:00, 62.2MB/s]\n",
            "100% 585M/585M [00:14<00:00, 43.4MB/s]\n"
          ]
        }
      ]
    },
    {
      "cell_type": "code",
      "source": [
        "!kaggle datasets download -d raddar/chest-xrays-tuberculosis-from-india"
      ],
      "metadata": {
        "colab": {
          "base_uri": "https://localhost:8080/"
        },
        "id": "eor1etj4IPAe",
        "outputId": "88704e66-0533-4408-981b-2b55dad77ad8"
      },
      "execution_count": 7,
      "outputs": [
        {
          "output_type": "stream",
          "name": "stdout",
          "text": [
            "Downloading chest-xrays-tuberculosis-from-india.zip to /content\n",
            " 80% 27.0M/33.7M [00:01<00:00, 16.2MB/s]\n",
            "100% 33.7M/33.7M [00:01<00:00, 30.0MB/s]\n"
          ]
        }
      ]
    },
    {
      "cell_type": "code",
      "source": [
        "import zipfile\n",
        "zf = \"/content/tuberculosis-tb-chest-xray-dataset.zip\"\n",
        "target_dir = \"/content/dataset/chest-xray\"\n",
        "zfile = zipfile.ZipFile(zf)\n",
        "zfile.extractall(target_dir)"
      ],
      "metadata": {
        "id": "ArS-pKOIIp8F"
      },
      "execution_count": 8,
      "outputs": []
    },
    {
      "cell_type": "code",
      "source": [
        "import zipfile\n",
        "zf = \"/content/tuberculosis-chest-xrays-shenzhen.zip\"\n",
        "target_dir = \"/content/dataset/china\"\n",
        "zfile = zipfile.ZipFile(zf)\n",
        "zfile.extractall(target_dir)"
      ],
      "metadata": {
        "id": "LP1-K1ChIpzV"
      },
      "execution_count": 9,
      "outputs": []
    },
    {
      "cell_type": "code",
      "source": [
        "import zipfile\n",
        "zf = \"/content/tuberculosis-chest-xrays-montgomery.zip\"\n",
        "target_dir = \"/content/dataset/US\"\n",
        "zfile = zipfile.ZipFile(zf)\n",
        "zfile.extractall(target_dir)"
      ],
      "metadata": {
        "id": "9d-pHmL2IpqS"
      },
      "execution_count": 10,
      "outputs": []
    },
    {
      "cell_type": "code",
      "source": [
        "import zipfile\n",
        "zf = \"/content/chest-xrays-tuberculosis-from-india.zip\"\n",
        "target_dir = \"/content/dataset/India\"\n",
        "zfile = zipfile.ZipFile(zf)\n",
        "zfile.extractall(target_dir)"
      ],
      "metadata": {
        "id": "10PZsanSIplO"
      },
      "execution_count": 11,
      "outputs": []
    },
    {
      "cell_type": "code",
      "source": [
        "import os\n",
        "import shutil\n",
        "import numpy as np\n",
        "def make_dirs_for_data():\n",
        "  par_dir=\"/content/dataset\"\n",
        "  path = par_dir+'/evaluate'\n",
        "  os.mkdir(path)\n",
        "\n",
        "  par_dir=\"/content/dataset/evaluate\"\n",
        "  path = par_dir+'/train'\n",
        "  os.mkdir(path)\n",
        "\n",
        "  par_dir=\"/content/dataset/evaluate\"\n",
        "  path = par_dir+'/test'\n",
        "  os.mkdir(path)\n",
        "\n",
        "  par_dir=\"/content/dataset/evaluate\"\n",
        "  path = par_dir+'/val'\n",
        "  os.mkdir(path)\n",
        "\n",
        "  path_of_test = \"/content/dataset/evaluate/train\" \n",
        "  path_of_test_normal = path_of_test+'/Normal'\n",
        "  path_of_test_Tb = path_of_test+'/Tb'\n",
        "  os.mkdir(path_of_test_normal)\n",
        "  os.mkdir(path_of_test_Tb)\n",
        "\n",
        "  path_of_test = \"/content/dataset/evaluate/test\" \n",
        "  path_of_test_normal = path_of_test+'/Normal'\n",
        "  path_of_test_Tb = path_of_test+'/Tb'\n",
        "  os.mkdir(path_of_test_normal)\n",
        "  os.mkdir(path_of_test_Tb)\n",
        "\n",
        "  path_of_test = \"/content/dataset/evaluate/val\" \n",
        "  path_of_test_normal = path_of_test+'/Normal'\n",
        "  path_of_test_Tb = path_of_test+'/Tb'\n",
        "  os.mkdir(path_of_test_normal)\n",
        "  os.mkdir(path_of_test_Tb)\n",
        "\n",
        "  # NORMAL\n",
        "  source = '/content/dataset/chest-xray/TB_Chest_Radiography_Database/Normal/'\n",
        "  destination = '/content/dataset/evaluate/train/Normal/'\n",
        "  allfiles = os.listdir(source)\n",
        "  np.random.shuffle(allfiles)\n",
        "  allfiles = allfiles[:1555]\n",
        "  for f in allfiles:\n",
        "    shutil.move(source + f, destination + f)\n",
        "\n",
        "  source = '/content/dataset/evaluate/train/Normal/'\n",
        "  destination = '/content/dataset/evaluate/val/Normal/'\n",
        "  allfiles = os.listdir(source)\n",
        "  np.random.shuffle(allfiles)\n",
        "  allfiles = allfiles[:311]\n",
        "  for f in allfiles:\n",
        "    shutil.move(source + f, destination + f)\n",
        "  \n",
        "  source = '/content/dataset/chest-xray/TB_Chest_Radiography_Database/Normal/'\n",
        "  destination = '/content/dataset/evaluate/test/Normal/'\n",
        "  allfiles = os.listdir(source)\n",
        "  np.random.shuffle(allfiles)\n",
        "  allfiles = allfiles[:100]\n",
        "  for f in allfiles:\n",
        "    shutil.move(source + f, destination + f)\n",
        "\n",
        "  # #TB\n",
        "  source = '/content/dataset/chest-xray/TB_Chest_Radiography_Database/Tuberculosis/'\n",
        "  destination = '/content/dataset/evaluate/train/Tb/'\n",
        "  allfiles = os.listdir(source)\n",
        "  for f in allfiles:\n",
        "    shutil.move(source + f, destination + f)\n",
        "\n",
        "  source = '/content/dataset/India/images/images/'\n",
        "  destination = '/content/dataset/evaluate/train/Tb/'\n",
        "  allfiles = os.listdir(source)\n",
        "  for f in allfiles:\n",
        "    shutil.move(source + f, destination + f)\n",
        "\n",
        "  source = '/content/dataset/US/images/images/'\n",
        "  destination = '/content/dataset/evaluate/train/Tb/'\n",
        "  allfiles = os.listdir(source)\n",
        "  for f in allfiles:\n",
        "    shutil.move(source + f, destination + f)\n",
        "\n",
        "  source = '/content/dataset/china/images/images/'\n",
        "  destination = '/content/dataset/evaluate/train/Tb/'\n",
        "  allfiles = os.listdir(source)\n",
        "  for f in allfiles:\n",
        "    shutil.move(source + f, destination + f)\n",
        "\n",
        "  source ='/content/dataset/evaluate/train/Tb/'\n",
        "  destination = '/content/dataset/evaluate/test/Tb/'\n",
        "  allfiles = os.listdir(source)\n",
        "  np.random.shuffle(allfiles)\n",
        "  allfiles = allfiles[:100]\n",
        "  for f in allfiles:\n",
        "    shutil.move(source + f, destination + f)\n",
        "\n",
        "  source = '/content/dataset/evaluate/train/Tb/'\n",
        "  destination = '/content/dataset/evaluate/val/Tb/'\n",
        "  allfiles = os.listdir(source)\n",
        "  np.random.shuffle(allfiles)\n",
        "  allfiles = allfiles[:311]\n",
        "  for f in allfiles:\n",
        "    shutil.move(source + f, destination + f)\n",
        "\n",
        "\n",
        "  print(\"train-normal\",len(os.listdir('/content/dataset/evaluate/train/Normal')))\n",
        "  print(\"train-Tb\",len(os.listdir('/content/dataset/evaluate/train/Tb')))\n",
        "  print(\"test-normal\",len(os.listdir('/content/dataset/evaluate/test/Normal')))\n",
        "  print(\"test-Tb\",len(os.listdir('/content/dataset/evaluate/test/Tb')))\n",
        "  print(\"val-normal\",len(os.listdir('/content/dataset/evaluate/val/Normal')))\n",
        "  print(\"val-Tb\",len(os.listdir('/content/dataset/evaluate/val/Tb')))\n"
      ],
      "metadata": {
        "id": "gWc0B3M7I2Gl"
      },
      "execution_count": 12,
      "outputs": []
    },
    {
      "cell_type": "code",
      "source": [
        "make_dirs_for_data()"
      ],
      "metadata": {
        "colab": {
          "base_uri": "https://localhost:8080/"
        },
        "id": "FfUEOLq3I5vi",
        "outputId": "50211dbd-a8b8-42bf-9a52-ad9ff0a3408c"
      },
      "execution_count": 13,
      "outputs": [
        {
          "output_type": "stream",
          "name": "stdout",
          "text": [
            "train-normal 1244\n",
            "train-Tb 1244\n",
            "test-normal 100\n",
            "test-Tb 100\n",
            "val-normal 311\n",
            "val-Tb 311\n"
          ]
        }
      ]
    },
    {
      "cell_type": "code",
      "source": [
        "from tensorflow.keras.layers import Conv2D, Flatten, Dense, MaxPool2D, BatchNormalization, GlobalAveragePooling2D\n",
        "from tensorflow.keras.applications.resnet50 import preprocess_input, decode_predictions \n",
        "from tensorflow.keras.preprocessing.image import ImageDataGenerator, load_img\n",
        "from tensorflow.keras.applications.resnet50 import ResNet50\n",
        "from tensorflow.keras.preprocessing import image\n",
        "from tensorflow.keras.models import Sequential \n",
        "from tensorflow.keras.models import Model\n",
        "import matplotlib.pyplot as plt\n",
        "import numpy as np"
      ],
      "metadata": {
        "id": "crhBgV7RJD0k"
      },
      "execution_count": 14,
      "outputs": []
    },
    {
      "cell_type": "code",
      "source": [
        "img_height,img_width = (224,224)\n",
        "batch_size=32\n",
        "\n",
        "train_data='/content/dataset/evaluate/train'\n",
        "val_data='/content/dataset/evaluate/val'\n",
        "test_data='/content/dataset/evaluate/test'"
      ],
      "metadata": {
        "id": "TEds_ri-JwEC"
      },
      "execution_count": 15,
      "outputs": []
    },
    {
      "cell_type": "code",
      "source": [
        "train_datagen = ImageDataGenerator(preprocessing_function=preprocess_input,\n",
        "                                   shear_range=0.2,\n",
        "                                   zoom_range=0.2,\n",
        "                                   horizontal_flip=True,\n",
        "                                   validation_split=0.4)\n",
        "\n",
        "train_generator =train_datagen.flow_from_directory(\n",
        "    train_data,\n",
        "    target_size=(img_height, img_width),\n",
        "    batch_size=batch_size, \n",
        "    class_mode='binary'\n",
        "    # subset='training'\n",
        ")\n",
        "val_generator = train_datagen.flow_from_directory(\n",
        "    val_data,\n",
        "    target_size=(img_height,img_width),\n",
        "     batch_size=batch_size,\n",
        "    class_mode='binary'\n",
        "    # subset='validation'\n",
        "    )\n"
      ],
      "metadata": {
        "colab": {
          "base_uri": "https://localhost:8080/"
        },
        "id": "qPCzmNQeKG7l",
        "outputId": "d0584db5-9f1e-4dbf-f953-6a565d81b966"
      },
      "execution_count": 16,
      "outputs": [
        {
          "output_type": "stream",
          "name": "stdout",
          "text": [
            "Found 2488 images belonging to 2 classes.\n",
            "Found 622 images belonging to 2 classes.\n"
          ]
        }
      ]
    },
    {
      "cell_type": "code",
      "source": [
        "test_generator =train_datagen.flow_from_directory( test_data, # same directory as training data\n",
        "                                                 target_size=(img_height, img_width),\n",
        "                                                 batch_size=1, \n",
        "                                                  class_mode='binary' \n",
        "                                                  # subset='validation'\n",
        "                                                  ) "
      ],
      "metadata": {
        "colab": {
          "base_uri": "https://localhost:8080/"
        },
        "id": "nVK3-uWrLhLi",
        "outputId": "13fb601b-d5de-42fd-ac14-6f806b19542f"
      },
      "execution_count": 17,
      "outputs": [
        {
          "output_type": "stream",
          "name": "stdout",
          "text": [
            "Found 200 images belonging to 2 classes.\n"
          ]
        }
      ]
    },
    {
      "cell_type": "code",
      "source": [
        "x,y=test_generator.next()\n",
        "x.shape"
      ],
      "metadata": {
        "colab": {
          "base_uri": "https://localhost:8080/"
        },
        "id": "xjmE1dTEMIVt",
        "outputId": "48f8dc2e-6665-468b-bd40-f6eef5d545c4"
      },
      "execution_count": 18,
      "outputs": [
        {
          "output_type": "execute_result",
          "data": {
            "text/plain": [
              "(1, 224, 224, 3)"
            ]
          },
          "metadata": {},
          "execution_count": 18
        }
      ]
    },
    {
      "cell_type": "code",
      "source": [
        "import tensorflow as tf\n",
        "my_callbacks = [\n",
        "    tf.keras.callbacks.EarlyStopping(patience=2),\n",
        "    tf.keras.callbacks.ModelCheckpoint(filepath='model.{epoch:02d}-{val_loss:.2f}.h5',\n",
        "                              monitor='val_loss',\n",
        "                             verbose=1, \n",
        "                             save_best_only=True),\n",
        "    tf.keras.callbacks.TensorBoard(log_dir='./logs'),\n",
        "]\n"
      ],
      "metadata": {
        "id": "Hn_UZvfHTUWu"
      },
      "execution_count": 19,
      "outputs": []
    },
    {
      "cell_type": "code",
      "source": [
        "from tensorflow.keras.applications.resnet50 import ResNet50\n",
        "base_model=ResNet50(include_top=False, weights='imagenet')\n",
        "x=base_model.output\n",
        "x = GlobalAveragePooling2D() (x)\n",
        "x=Dense(1024, activation='relu')(x)\n",
        "# x=Flatten()(x)\n",
        "predictions=Dense(1, activation='sigmoid')(x) #train_generator.num_classes\n",
        "model=Model(inputs=base_model.input,outputs=predictions)\n",
        "\n",
        "for layer in base_model.layers: \n",
        "  layer.trainable=False\n",
        "\n",
        "from tensorflow.keras.optimizers import Adam\n",
        "model.compile(optimizer=Adam(lr=0.003), loss=\"binary_crossentropy\", metrics = ['accuracy'])\n",
        "\n",
        "# history = base_model.fit(train_generator,\n",
        "#                                   validation_data=val_generator,\n",
        "#                                   steps_per_epoch=32,  #int(2488/batch_size),\n",
        "#                                   epochs=15,\n",
        "#                                   verbose=1,\n",
        "# )                      \n",
        "model.fit(train_generator,validation_data=val_generator,epochs = 10,verbose=1)"
      ],
      "metadata": {
        "colab": {
          "base_uri": "https://localhost:8080/"
        },
        "id": "tIc6uEy0MPPw",
        "outputId": "c3ae17c8-6ac4-4e06-f78c-38b8694cabf1"
      },
      "execution_count": 21,
      "outputs": [
        {
          "output_type": "stream",
          "name": "stderr",
          "text": [
            "/usr/local/lib/python3.7/dist-packages/keras/optimizer_v2/adam.py:105: UserWarning: The `lr` argument is deprecated, use `learning_rate` instead.\n",
            "  super(Adam, self).__init__(name, **kwargs)\n"
          ]
        },
        {
          "output_type": "stream",
          "name": "stdout",
          "text": [
            "Epoch 1/10\n",
            "78/78 [==============================] - 158s 2s/step - loss: 0.8967 - accuracy: 0.8436 - val_loss: 0.1660 - val_accuracy: 0.9293\n",
            "Epoch 2/10\n",
            "78/78 [==============================] - 148s 2s/step - loss: 0.1544 - accuracy: 0.9369 - val_loss: 0.2038 - val_accuracy: 0.9100\n",
            "Epoch 3/10\n",
            "78/78 [==============================] - 148s 2s/step - loss: 0.1040 - accuracy: 0.9578 - val_loss: 0.1122 - val_accuracy: 0.9630\n",
            "Epoch 4/10\n",
            "78/78 [==============================] - 146s 2s/step - loss: 0.1014 - accuracy: 0.9626 - val_loss: 0.0863 - val_accuracy: 0.9695\n",
            "Epoch 5/10\n",
            "78/78 [==============================] - 143s 2s/step - loss: 0.1016 - accuracy: 0.9594 - val_loss: 0.0785 - val_accuracy: 0.9662\n",
            "Epoch 6/10\n",
            "78/78 [==============================] - 147s 2s/step - loss: 0.1087 - accuracy: 0.9590 - val_loss: 0.1693 - val_accuracy: 0.9421\n",
            "Epoch 7/10\n",
            "78/78 [==============================] - 148s 2s/step - loss: 0.1051 - accuracy: 0.9626 - val_loss: 0.0629 - val_accuracy: 0.9695\n",
            "Epoch 8/10\n",
            "78/78 [==============================] - 147s 2s/step - loss: 0.0511 - accuracy: 0.9815 - val_loss: 0.0784 - val_accuracy: 0.9743\n",
            "Epoch 9/10\n",
            "78/78 [==============================] - 147s 2s/step - loss: 0.0536 - accuracy: 0.9787 - val_loss: 0.0876 - val_accuracy: 0.9662\n",
            "Epoch 10/10\n",
            "78/78 [==============================] - 145s 2s/step - loss: 0.0432 - accuracy: 0.9859 - val_loss: 0.0640 - val_accuracy: 0.9743\n"
          ]
        },
        {
          "output_type": "execute_result",
          "data": {
            "text/plain": [
              "<keras.callbacks.History at 0x7ffa1bb2e650>"
            ]
          },
          "metadata": {},
          "execution_count": 21
        }
      ]
    },
    {
      "cell_type": "code",
      "source": [
        "import ctypes\n",
        "# ctypes.cast(0x7ffa1bb2e650,ctypes.py_object).value\n",
        "history = ctypes.cast(0x7ffa1bb2e650,ctypes.py_object).value\n",
        "plt.style.use(\"seaborn-dark\")\n",
        "plt.title(\"Accuracy\")\n",
        "plt.plot(history.history['accuracy'],label=\"accuracy\",c='green')\n",
        "plt.plot(history.history['val_accuracy'],label=\"val_accuracy\",c='orange')\n",
        "plt.legend()\n",
        "plt.show()\n",
        "# history"
      ],
      "metadata": {
        "colab": {
          "base_uri": "https://localhost:8080/",
          "height": 277
        },
        "id": "n7L_W6m70kMO",
        "outputId": "2de25a71-fd8f-4192-9f77-ea2238b3099d"
      },
      "execution_count": 33,
      "outputs": [
        {
          "output_type": "display_data",
          "data": {
            "image/png": "[encoded data removed]",
            "text/plain": [
              "<Figure size 432x288 with 1 Axes>"
            ]
          },
          "metadata": {}
        }
      ]
    },
    {
      "cell_type": "code",
      "source": [
        "plt.style.use(\"seaborn-dark\")\n",
        "plt.title(\"Loss\")\n",
        "plt.plot(history.history['loss'],label=\"loss\",c='green')\n",
        "plt.plot(history.history['val_loss'],label=\"val_loss\",c='orange')\n",
        "plt.legend()\n",
        "plt.show()"
      ],
      "metadata": {
        "colab": {
          "base_uri": "https://localhost:8080/",
          "height": 277
        },
        "id": "IEhGq6OASQ_g",
        "outputId": "124a98f1-f52b-4315-a54e-5d54b0b90700"
      },
      "execution_count": 34,
      "outputs": [
        {
          "output_type": "display_data",
          "data": {
            "image/png": "[encoded data removed]",
            "text/plain": [
              "<Figure size 432x288 with 1 Axes>"
            ]
          },
          "metadata": {}
        }
      ]
    },
    {
      "cell_type": "code",
      "source": [
        "test_loss,test_accuracy= model.evaluate(test_generator,verbose=2)"
      ],
      "metadata": {
        "colab": {
          "base_uri": "https://localhost:8080/"
        },
        "id": "uZ8d3-S4R4Ub",
        "outputId": "a6eb2ef6-c354-4c64-badf-8c805ebb3b49"
      },
      "execution_count": 35,
      "outputs": [
        {
          "output_type": "stream",
          "name": "stdout",
          "text": [
            "200/200 - 18s - loss: 0.0595 - accuracy: 0.9750 - 18s/epoch - 90ms/step\n"
          ]
        }
      ]
    }
  ]
}